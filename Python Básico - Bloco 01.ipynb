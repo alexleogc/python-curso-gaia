{
 "cells": [
  {
   "cell_type": "code",
   "execution_count": 1,
   "id": "3ae188f8",
   "metadata": {},
   "outputs": [
    {
     "data": {
      "text/html": [
       "<img src=\"https://github.com/alexleogc/GEOD68_2022_01/blob/c3e18ef9426dee1d174624ae8518d335374b40af/Figs/logo-07.jpg?raw=true\" width=\"600\"/>"
      ],
      "text/plain": [
       "<IPython.core.display.Image object>"
      ]
     },
     "execution_count": 1,
     "metadata": {},
     "output_type": "execute_result"
    }
   ],
   "source": [
    "from IPython.display import Image\n",
    "Image(url='https://github.com/alexleogc/GEOD68_2022_01/blob/c3e18ef9426dee1d174624ae8518d335374b40af/Figs/logo-07.jpg?raw=true',width=600)"
   ]
  },
  {
   "cell_type": "markdown",
   "id": "5e1146cc",
   "metadata": {},
   "source": [
    "# Tipos de dados e variáveis\n",
    "\n",
    "\n",
    "Um dos recursos mais eficientes de uma linguagem de programação é a manipulação de variáveis. Variáveis são espaços reservados na memória para armazenar dados que serão utilizados durante a execução de um programa. Podem ter valores de diversos tamanhos e tipos, como números inteiros, reais, complexos, caracteres ou até mesmo longas frases.\n",
    "\n",
    "Em Python, existem 5 tipos de variáveis:\n",
    "\n",
    "\n",
    "* Numéricas\n",
    "\n",
    "\n",
    "    * Inteiros (int)\n",
    "    * Pontos Flutuantes (float)\n",
    "    * Complexos (complex)\n",
    "    * Booleanos (bool)\n",
    "    \n",
    "\n",
    "* Categóricas\n",
    "\n",
    "\n",
    "    * Strings (str)"
   ]
  },
  {
   "cell_type": "code",
   "execution_count": 2,
   "id": "1d48ded8",
   "metadata": {},
   "outputs": [
    {
     "name": "stdout",
     "output_type": "stream",
     "text": [
      "42\n"
     ]
    }
   ],
   "source": [
    "# Variaveis inteiras\n",
    "\n",
    "var = 42\n",
    "print(var)"
   ]
  },
  {
   "cell_type": "code",
   "execution_count": 3,
   "id": "49848f09",
   "metadata": {},
   "outputs": [
    {
     "data": {
      "text/plain": [
       "int"
      ]
     },
     "execution_count": 3,
     "metadata": {},
     "output_type": "execute_result"
    }
   ],
   "source": [
    "type(var)"
   ]
  },
  {
   "cell_type": "code",
   "execution_count": 4,
   "id": "3a3dab9c",
   "metadata": {},
   "outputs": [
    {
     "name": "stdout",
     "output_type": "stream",
     "text": [
      "3.14 <class 'float'>\n"
     ]
    }
   ],
   "source": [
    "# Variaveis inteiras\n",
    "a = 3.14\n",
    "print(a,type(a))"
   ]
  },
  {
   "cell_type": "code",
   "execution_count": 5,
   "id": "5bb4ff33",
   "metadata": {},
   "outputs": [
    {
     "name": "stdout",
     "output_type": "stream",
     "text": [
      "True <class 'bool'>\n"
     ]
    }
   ],
   "source": [
    "boolean = True # ou False\n",
    "print(boolean,type(boolean))"
   ]
  },
  {
   "cell_type": "markdown",
   "id": "ede40925",
   "metadata": {},
   "source": [
    "O Python possui palavras-chave. O interpretador utiliza essas palavras para reconhecer a estrutura do programa e executar as devidas operações. Por isso estas palavras chave **não** podem ser utilizadas como nome de uma variável, seja ela categórica ou numérica. Atribuir valores a estas palavras-chave irá gerar um erro no código.\n",
    "\n",
    "<style type=\"text/css\">\n",
    ".tg  {border-collapse:collapse;border-spacing:0;}\n",
    ".tg td{border-color:black;border-style:solid;border-width:1px;font-family:Arial, sans-serif;font-size:14px;\n",
    "  overflow:hidden;padding:10px 5px;word-break:normal;}\n",
    ".tg th{border-color:black;border-style:solid;border-width:1px;font-family:Arial, sans-serif;font-size:14px;\n",
    "  font-weight:normal;overflow:hidden;padding:10px 5px;word-break:normal;}\n",
    ".tg .tg-0pky{border-color:inherit;text-align:left;vertical-align:top}\n",
    "</style>\n",
    "<table class=\"tg\" style=\"undefined;table-layout: fixed; width: 288px\">\n",
    "<colgroup>\n",
    "<col style=\"width: 61.002976px\">\n",
    "<col style=\"width: 55.002976px\">\n",
    "<col style=\"width: 59.002976px\">\n",
    "<col style=\"width: 64.00297599999999px\">\n",
    "<col style=\"width: 49.002976px\">\n",
    "</colgroup>\n",
    "<tbody>\n",
    "  <tr>\n",
    "    <td class=\"tg-0pky\">and</td>\n",
    "    <td class=\"tg-0pky\">del</td>\n",
    "    <td class=\"tg-0pky\">from</td>\n",
    "    <td class=\"tg-0pky\">None</td>\n",
    "    <td class=\"tg-0pky\">True</td>\n",
    "  </tr>\n",
    "</tbody>\n",
    "<tbody>\n",
    "  <tr>\n",
    "    <td class=\"tg-0pky\">as</td>\n",
    "    <td class=\"tg-0pky\">elif </td>\n",
    "    <td class=\"tg-0pky\">global</td>\n",
    "    <td class=\"tg-0pky\">nonlocal</td>\n",
    "    <td class=\"tg-0pky\">try</td>\n",
    "  </tr>\n",
    "  <tr>\n",
    "    <td class=\"tg-0pky\">assert</td>\n",
    "    <td class=\"tg-0pky\">else</td>\n",
    "    <td class=\"tg-0pky\">if</td>\n",
    "    <td class=\"tg-0pky\">not</td>\n",
    "    <td class=\"tg-0pky\">while</td>\n",
    "  </tr>\n",
    "  <tr>\n",
    "    <td class=\"tg-0pky\">break </td>\n",
    "    <td class=\"tg-0pky\">except</td>\n",
    "    <td class=\"tg-0pky\">import</td>\n",
    "    <td class=\"tg-0pky\">or </td>\n",
    "    <td class=\"tg-0pky\">with</td>\n",
    "  </tr>\n",
    "  <tr>\n",
    "    <td class=\"tg-0pky\">class</td>\n",
    "    <td class=\"tg-0pky\">False</td>\n",
    "    <td class=\"tg-0pky\">in</td>\n",
    "    <td class=\"tg-0pky\">pass</td>\n",
    "    <td class=\"tg-0pky\">yield</td>\n",
    "  </tr>\n",
    "  <tr>\n",
    "    <td class=\"tg-0pky\">continue</td>\n",
    "    <td class=\"tg-0pky\">finally</td>\n",
    "    <td class=\"tg-0pky\">is</td>\n",
    "    <td class=\"tg-0pky\">raise</td>\n",
    "    <td class=\"tg-0pky\"></td>\n",
    "  </tr>\n",
    "  <tr>\n",
    "    <td class=\"tg-0pky\">def</td>\n",
    "    <td class=\"tg-0pky\">for </td>\n",
    "    <td class=\"tg-0pky\">lambda</td>\n",
    "    <td class=\"tg-0pky\">return</td>\n",
    "    <td class=\"tg-0pky\"></td>\n",
    "  </tr>\n",
    "</tbody>\n",
    "</table>"
   ]
  },
  {
   "cell_type": "code",
   "execution_count": 6,
   "id": "05a5da83",
   "metadata": {},
   "outputs": [
    {
     "ename": "SyntaxError",
     "evalue": "invalid syntax (<ipython-input-6-13bc2e013fcb>, line 2)",
     "output_type": "error",
     "traceback": [
      "\u001b[1;36m  File \u001b[1;32m\"<ipython-input-6-13bc2e013fcb>\"\u001b[1;36m, line \u001b[1;32m2\u001b[0m\n\u001b[1;33m    finally = 10\u001b[0m\n\u001b[1;37m    ^\u001b[0m\n\u001b[1;31mSyntaxError\u001b[0m\u001b[1;31m:\u001b[0m invalid syntax\n"
     ]
    }
   ],
   "source": [
    "#Vamos tentar atribuir um valor a uma das variáveis citadas\n",
    "finally = 10"
   ]
  },
  {
   "cell_type": "code",
   "execution_count": 7,
   "id": "971082ee",
   "metadata": {},
   "outputs": [
    {
     "ename": "SyntaxError",
     "evalue": "cannot assign to True (<ipython-input-7-6fa9faf6b782>, line 1)",
     "output_type": "error",
     "traceback": [
      "\u001b[1;36m  File \u001b[1;32m\"<ipython-input-7-6fa9faf6b782>\"\u001b[1;36m, line \u001b[1;32m1\u001b[0m\n\u001b[1;33m    True = False\u001b[0m\n\u001b[1;37m    ^\u001b[0m\n\u001b[1;31mSyntaxError\u001b[0m\u001b[1;31m:\u001b[0m cannot assign to True\n"
     ]
    }
   ],
   "source": [
    "True = False"
   ]
  },
  {
   "cell_type": "markdown",
   "id": "44264679",
   "metadata": {},
   "source": [
    "Na linguagem de programação Python é comum utilizar artifícios matemáticos. As operações matemáticas básicas e seus respectivos operadores estão listados abaixo.\n",
    "\n",
    "Operador | Função\n",
    " :--- | :---\n",
    "a + b | adição\n",
    "a - b | subtração\n",
    "a * b | multiplicação\n",
    "a / b | divisão\n",
    "a ** b | exponenciação\n",
    "       |\n",
    "a // b | divisão inteira\n",
    "a % b | resto da divisão inteira\n",
    "divmod(a, b) | retorna (a // b, x % y)\n",
    "abs(a) | módulo de a\n",
    "round(a[, n]) | arredonda número a n casas decimais"
   ]
  },
  {
   "cell_type": "markdown",
   "id": "0aa64362",
   "metadata": {},
   "source": [
    "Quando uma expressão contém mais de um operador, a ordem da avaliação depende da ordem das operações. Para operadores matemáticos, o Python segue a convenção matemática. O acrônimo PEMDAS (Parenteses / Exponenciação / Multiplicação e Divisão / Adição e Subtração) pode ser útil para lembrar das regras:\n",
    "\n",
    "* Os Parênteses têm a precedência mais alta e podem ser usados para forçar a avaliação de uma expressão na ordem que você quiser. \n",
    "\n",
    "* A Exponenciação tem a próxima precedência mais alta, então 1 + 2**3 é 10, não 27.\n",
    "\n",
    "* A Multiplicação e a Divisão têm precedência mais alta que a Adição e a Subtração. Assim, 2 * 3 - 1 é 5, não 4, e 6 + 4 / 2 é 8, não 5.\n",
    "\n",
    "* Os operadores com a mesma precedência são avaliados da esquerda para a direita (exceto na exponenciação). "
   ]
  },
  {
   "cell_type": "code",
   "execution_count": 8,
   "id": "5cfacea2",
   "metadata": {},
   "outputs": [
    {
     "data": {
      "text/plain": [
       "7"
      ]
     },
     "execution_count": 8,
     "metadata": {},
     "output_type": "execute_result"
    }
   ],
   "source": [
    "1+2*3"
   ]
  },
  {
   "cell_type": "code",
   "execution_count": 9,
   "id": "88231ad5",
   "metadata": {},
   "outputs": [
    {
     "data": {
      "text/plain": [
       "9"
      ]
     },
     "execution_count": 9,
     "metadata": {},
     "output_type": "execute_result"
    }
   ],
   "source": [
    "(1+2)*3"
   ]
  },
  {
   "cell_type": "code",
   "execution_count": 10,
   "id": "08e5f47a",
   "metadata": {},
   "outputs": [
    {
     "data": {
      "text/plain": [
       "12.0"
      ]
     },
     "execution_count": 10,
     "metadata": {},
     "output_type": "execute_result"
    }
   ],
   "source": [
    "2*4/2+4+2**2"
   ]
  },
  {
   "cell_type": "code",
   "execution_count": 11,
   "id": "b6246547",
   "metadata": {},
   "outputs": [
    {
     "data": {
      "text/plain": [
       "40.0"
      ]
     },
     "execution_count": 11,
     "metadata": {},
     "output_type": "execute_result"
    }
   ],
   "source": [
    "((2*4)/2)+(4+2)**2"
   ]
  },
  {
   "cell_type": "code",
   "execution_count": 12,
   "id": "8a307da7",
   "metadata": {},
   "outputs": [],
   "source": [
    "# Testando outros operadores\n",
    "a = 10\n",
    "b = 3"
   ]
  },
  {
   "cell_type": "code",
   "execution_count": 13,
   "id": "2fc2485e",
   "metadata": {},
   "outputs": [
    {
     "name": "stdout",
     "output_type": "stream",
     "text": [
      "3\n"
     ]
    }
   ],
   "source": [
    "#Divisão inteira\n",
    "print(a//b)"
   ]
  },
  {
   "cell_type": "code",
   "execution_count": 14,
   "id": "889a674f",
   "metadata": {},
   "outputs": [
    {
     "name": "stdout",
     "output_type": "stream",
     "text": [
      "1\n"
     ]
    }
   ],
   "source": [
    "#Resto da divisão inteira\n",
    "print(a%b)"
   ]
  },
  {
   "cell_type": "code",
   "execution_count": 15,
   "id": "77b2e152",
   "metadata": {},
   "outputs": [
    {
     "data": {
      "text/plain": [
       "(3, 1)"
      ]
     },
     "execution_count": 15,
     "metadata": {},
     "output_type": "execute_result"
    }
   ],
   "source": [
    "#Retorna divisão inteira e o resto\n",
    "divmod(a,b)"
   ]
  },
  {
   "cell_type": "code",
   "execution_count": 16,
   "id": "efb6ef0e",
   "metadata": {},
   "outputs": [
    {
     "data": {
      "text/plain": [
       "-10"
      ]
     },
     "execution_count": 16,
     "metadata": {},
     "output_type": "execute_result"
    }
   ],
   "source": [
    "c = -10\n",
    "c"
   ]
  },
  {
   "cell_type": "code",
   "execution_count": 17,
   "id": "13c9d923",
   "metadata": {},
   "outputs": [
    {
     "data": {
      "text/plain": [
       "10"
      ]
     },
     "execution_count": 17,
     "metadata": {},
     "output_type": "execute_result"
    }
   ],
   "source": [
    "abs(c)"
   ]
  },
  {
   "cell_type": "code",
   "execution_count": 18,
   "id": "d07eabb3",
   "metadata": {},
   "outputs": [],
   "source": [
    "from math import pi"
   ]
  },
  {
   "cell_type": "code",
   "execution_count": 19,
   "id": "9a7cd0af",
   "metadata": {},
   "outputs": [
    {
     "data": {
      "text/plain": [
       "3.141592653589793"
      ]
     },
     "execution_count": 19,
     "metadata": {},
     "output_type": "execute_result"
    }
   ],
   "source": [
    "pi"
   ]
  },
  {
   "cell_type": "code",
   "execution_count": 20,
   "id": "d5529c95",
   "metadata": {},
   "outputs": [
    {
     "data": {
      "text/plain": [
       "3.142"
      ]
     },
     "execution_count": 20,
     "metadata": {},
     "output_type": "execute_result"
    }
   ],
   "source": [
    "#Arredondamento do número pi por 3 casas decimais\n",
    "round(pi,3)"
   ]
  },
  {
   "cell_type": "markdown",
   "id": "85686669",
   "metadata": {},
   "source": [
    "## Exercício\n",
    "\n",
    "#### 1. Aproximando a Terra por uma esfera perfeita de raio igual a 6371 km, calcule a área aproximada da sua superfície com duas casas decimais, em m².\n",
    "\n",
    "$$A_{se} = 4 \\pi r^2$$"
   ]
  },
  {
   "cell_type": "code",
   "execution_count": 21,
   "id": "5f2b098d",
   "metadata": {},
   "outputs": [
    {
     "name": "stdout",
     "output_type": "stream",
     "text": [
      "510064471909788.25\n"
     ]
    }
   ],
   "source": [
    "r = 6371*(10**3)\n",
    "A = 4*pi*(r**2)\n",
    "print(round(A,2))"
   ]
  },
  {
   "cell_type": "markdown",
   "id": "f0680305",
   "metadata": {},
   "source": [
    "-----"
   ]
  },
  {
   "cell_type": "markdown",
   "id": "818a62c0",
   "metadata": {},
   "source": [
    "# Expressões Lógicas\n",
    "\n",
    "Expressões lógicas são expressões cujos operadores são os operadores lógicos e os operandos são relações onde o resultado é uma variável booleana.\n",
    "\n",
    "\n",
    "### Operadores relacionais\n",
    "\n",
    "Para falar de operadores relacionais, é importante compreender o que é uma operação booleana. Uma expressão booleana é uma expressão que pode ser verdadeira (True) ou falsa (False). Essas expressões podem ser efetuadas através dos operadores seguintes relacionais: \n",
    "\n",
    "<table>\n",
    "    <tr>\n",
    "        <th><b>Operador</b></th>\n",
    "        <th><b>Função</b></th>\n",
    "    </tr>\n",
    "    <tr>\n",
    "        <td>a == b</td>\n",
    "        <td>Igual a</td>\n",
    "    </tr>\n",
    "    <tr>\n",
    "        <td>a != b</td>\n",
    "        <td>Diferente de</td>\n",
    "    </tr>\n",
    "    <tr>\n",
    "        <td>a > b</td>\n",
    "        <td>Maior que</td>\n",
    "    </tr>\n",
    "    <tr>\n",
    "        <td>a >= b</td>\n",
    "        <td>Maior ou igual a</td>\n",
    "    </tr>\n",
    "    <tr>\n",
    "        <td>a &lt; b</td>\n",
    "        <td>Menor que</td>\n",
    "    </tr>\n",
    "    <tr>\n",
    "        <td>a &lt;= b</td>\n",
    "        <td>Menor ou igual a</td>\n",
    "    </tr>\n",
    "</table>"
   ]
  },
  {
   "cell_type": "code",
   "execution_count": 22,
   "id": "74a81677",
   "metadata": {},
   "outputs": [
    {
     "data": {
      "text/plain": [
       "False"
      ]
     },
     "execution_count": 22,
     "metadata": {},
     "output_type": "execute_result"
    }
   ],
   "source": [
    "10 == 7"
   ]
  },
  {
   "cell_type": "code",
   "execution_count": 23,
   "id": "fcec3ef3",
   "metadata": {},
   "outputs": [
    {
     "data": {
      "text/plain": [
       "True"
      ]
     },
     "execution_count": 23,
     "metadata": {},
     "output_type": "execute_result"
    }
   ],
   "source": [
    "10 != 7"
   ]
  },
  {
   "cell_type": "code",
   "execution_count": 24,
   "id": "eff50f41",
   "metadata": {},
   "outputs": [
    {
     "data": {
      "text/plain": [
       "True"
      ]
     },
     "execution_count": 24,
     "metadata": {},
     "output_type": "execute_result"
    }
   ],
   "source": [
    "10 > 7 "
   ]
  },
  {
   "cell_type": "code",
   "execution_count": 25,
   "id": "c0090316",
   "metadata": {},
   "outputs": [
    {
     "data": {
      "text/plain": [
       "True"
      ]
     },
     "execution_count": 25,
     "metadata": {},
     "output_type": "execute_result"
    }
   ],
   "source": [
    "10 >= 7 "
   ]
  },
  {
   "cell_type": "markdown",
   "id": "32bdb42e",
   "metadata": {},
   "source": [
    "### Operadores lógicos\n",
    "\n",
    "Há três operadores lógicos em python: <b> and, or</b> e <b>not</b>. A semântica desses operadores são semelhantes ao seu significado em inglês. Exemplo:"
   ]
  },
  {
   "cell_type": "code",
   "execution_count": 26,
   "id": "1620718f",
   "metadata": {},
   "outputs": [
    {
     "name": "stdout",
     "output_type": "stream",
     "text": [
      "Código que verifica se x está entre 0 e 10\n",
      "\n",
      "Digite um valor (float) para x: 5\n",
      "True\n"
     ]
    }
   ],
   "source": [
    "#print('Código que verifica se x está entre 0 e 10')\n",
    "x = float(input('Código que verifica se x está entre 0 e 10\\n\\nDigite um valor (float) para x: '))\n",
    "\n",
    "print(x>=0 and x<=10)"
   ]
  },
  {
   "cell_type": "markdown",
   "id": "ab8b4d8a",
   "metadata": {},
   "source": [
    "Tabela verdade da conjunção:<br>\n",
    "Caso <b>apenas uma</b> proposição seja <b>falsa</b>, o <b>resultado será falso</b> independente do resto.\n",
    "<table>\n",
    "    <tr>\n",
    "        <th><b>a</b></th>\n",
    "        <th><b>b</b></th>\n",
    "        <th><b>a 'and' b</b></th>\n",
    "    </tr>\n",
    "    <tr>\n",
    "        <td>True</td>\n",
    "        <td>True</td>\n",
    "        <td>True</td>\n",
    "    </tr>\n",
    "    <tr>\n",
    "        <td>True</td>\n",
    "        <td>False</td>\n",
    "        <td>False</td>\n",
    "    </tr>\n",
    "    <tr>\n",
    "        <td>False</td>\n",
    "        <td>True</td>\n",
    "        <td>False</td>\n",
    "    </tr>\n",
    "    <tr>\n",
    "        <td>False</td>\n",
    "        <td>False</td>\n",
    "        <td>False</td>\n",
    "    </tr>\n",
    "</table>\n",
    "\n",
    "Tabela verdade da disjunção:<br>\n",
    "Caso <b>apenas uma</b> proposição seja <b>verdadeira</b>, o <b>resultado será verdadeiro</b> independente do resto.\n",
    "<table>\n",
    "    <tr>\n",
    "        <th><b>a</b></th>\n",
    "        <th><b>b</b></th>\n",
    "        <th><b>a 'or' b</b></th>\n",
    "    </tr>\n",
    "    <tr>\n",
    "        <td>True</td>\n",
    "        <td>True</td>\n",
    "        <td>True</td>\n",
    "    </tr>\n",
    "    <tr>\n",
    "        <td>True</td>\n",
    "        <td>False</td>\n",
    "        <td>True</td>\n",
    "    </tr>\n",
    "    <tr>\n",
    "        <td>False</td>\n",
    "        <td>True</td>\n",
    "        <td>True</td>\n",
    "    </tr>\n",
    "    <tr>\n",
    "        <td>False</td>\n",
    "        <td>False</td>\n",
    "        <td>False</td>\n",
    "    </tr>\n",
    "</table>"
   ]
  },
  {
   "cell_type": "code",
   "execution_count": 27,
   "id": "4f06279e",
   "metadata": {},
   "outputs": [
    {
     "name": "stdout",
     "output_type": "stream",
     "text": [
      "10 maior que 8: True\n",
      "25 menor que 10: False\n"
     ]
    }
   ],
   "source": [
    "print('10 maior que 8:',10 > 8)\n",
    "print('25 menor que 10:',25<10)"
   ]
  },
  {
   "cell_type": "code",
   "execution_count": 28,
   "id": "a2f1ae82",
   "metadata": {},
   "outputs": [
    {
     "name": "stdout",
     "output_type": "stream",
     "text": [
      "True\n"
     ]
    }
   ],
   "source": [
    "#Testantando cond True / True com o operador and\n",
    "print(10>5 and 2==2.0)"
   ]
  },
  {
   "cell_type": "code",
   "execution_count": 29,
   "id": "f6e4e001",
   "metadata": {},
   "outputs": [
    {
     "name": "stdout",
     "output_type": "stream",
     "text": [
      "False\n"
     ]
    }
   ],
   "source": [
    "#Testantando cond False / True com o operador and\n",
    "print(10<5 and 2==2.0)"
   ]
  },
  {
   "cell_type": "code",
   "execution_count": 30,
   "id": "8694932f",
   "metadata": {},
   "outputs": [
    {
     "name": "stdout",
     "output_type": "stream",
     "text": [
      "True\n"
     ]
    }
   ],
   "source": [
    "#Testantando cond False / True com o operador or\n",
    "print(10<5 or 2==2.0)"
   ]
  },
  {
   "cell_type": "code",
   "execution_count": 31,
   "id": "d348293d",
   "metadata": {},
   "outputs": [
    {
     "name": "stdout",
     "output_type": "stream",
     "text": [
      "False\n"
     ]
    }
   ],
   "source": [
    "#Testantando cond False / False com o operador or\n",
    "print(10<5 or 2!=2.0)"
   ]
  },
  {
   "cell_type": "code",
   "execution_count": 32,
   "id": "11c841a2",
   "metadata": {},
   "outputs": [
    {
     "data": {
      "text/plain": [
       "False"
      ]
     },
     "execution_count": 32,
     "metadata": {},
     "output_type": "execute_result"
    }
   ],
   "source": [
    "not 10>8"
   ]
  },
  {
   "cell_type": "markdown",
   "id": "18f81c10",
   "metadata": {},
   "source": [
    "---"
   ]
  },
  {
   "cell_type": "markdown",
   "id": "e7a476f6",
   "metadata": {},
   "source": [
    "# Estruturas condicionais\n",
    "\n",
    "Basicamente, a maior parte das atividades realizadas por dispositivos eletrônicos acontece utilizando o conceito de estruturas condicionais.<br> Blocos de condicionais servem para expressar o que irá acontecer no seu programa <b>se</b> uma determinada condição for atendida, <b>caso contrário</b> o programa poderá executar outra ação.\n",
    "\n",
    "#### Como essas estruturas funcionam?\n",
    "Elas funcionam através da verificação do resultado de uma expressão lógica e sua sintaxe é dada por.\n",
    "```python\n",
    "if(expressão):\n",
    "    #Código\n",
    "else: \n",
    "    #Código\n",
    "```\n",
    "Nossa expressão pode utilizar os seguintes operadores relacionais:\n",
    "```python\n",
    "var1 == var2\n",
    "var1 != var2\n",
    "Var1  > var2\n",
    "var1 >= var2\n",
    "Var1 <  var2\n",
    "var1 <= var2\n",
    "```\n",
    "Esse operadores irão gerar uma reposta <b>booleana</b>: \n",
    "```python \n",
    "True/False\n",
    "```\n",
    "Também pode-se utilizar os operadores lógicos citados acima.\n",
    "\n",
    "<b>Obs:</b> Existem outros operadores no python que podem gerar uma resposta booleana, porém só iremos utilizar esses por enquanto."
   ]
  },
  {
   "cell_type": "code",
   "execution_count": null,
   "id": "e612a700",
   "metadata": {},
   "outputs": [],
   "source": [
    "vsh = float(input('Digite o valor da argilosidade: '))\n",
    "\n",
    "if vsh>=0.5:\n",
    "    print('Folhelho')\n",
    "else:\n",
    "    print('Arenito')"
   ]
  },
  {
   "cell_type": "markdown",
   "id": "ccb06d5b",
   "metadata": {},
   "source": [
    "#### Podemos utilizar múltiplos condicionais\n",
    "\n",
    "Às vezes, é necessário a verificação de mais de uma condição. Quando isso acontece, pode-se expressar a operação através de uma condicional encadeada:\n",
    "\n",
    "```python\n",
    "if (condição):\n",
    "    código\n",
    "elif (condição_2):\n",
    "    código\n",
    "elif (condição_3):\n",
    "    código\n",
    "...\n",
    "elif (condição_n):\n",
    "    código\n",
    "else:\n",
    "    código\n",
    "```"
   ]
  },
  {
   "cell_type": "code",
   "execution_count": null,
   "id": "ce76294f",
   "metadata": {},
   "outputs": [],
   "source": [
    "vsh = float(input('Digite o valor da argilosidade: '))\n",
    "\n",
    "if vsh>=0.7:\n",
    "    print('Folhelho')\n",
    "elif vsh>=0.3 and vsh<0.7:\n",
    "    print('Siltito')\n",
    "else:\n",
    "    print('Arenito')"
   ]
  },
  {
   "cell_type": "markdown",
   "id": "c8a69a73",
   "metadata": {},
   "source": [
    "#### Coisas não permitidas:"
   ]
  },
  {
   "cell_type": "code",
   "execution_count": null,
   "id": "6b2030f9",
   "metadata": {},
   "outputs": [],
   "source": [
    "else: #Else sozinho"
   ]
  },
  {
   "cell_type": "code",
   "execution_count": null,
   "id": "a474f883",
   "metadata": {},
   "outputs": [],
   "source": [
    "if: #If sem condição \n",
    "    print(10)"
   ]
  },
  {
   "cell_type": "markdown",
   "id": "d78dd066",
   "metadata": {},
   "source": [
    "<img src=\"https://pbs.twimg.com/media/Ec7exH6XYAITBNZ?format=png&name=900x900\" style=\"vertical-align:left\" alt=\"meme\" width=300 height=300>"
   ]
  },
  {
   "cell_type": "code",
   "execution_count": null,
   "id": "6eea7bed",
   "metadata": {},
   "outputs": [],
   "source": [
    "if(x==10): #Elif sem condição \n",
    "    print(10)\n",
    "elif:\n",
    "    print(20)"
   ]
  },
  {
   "cell_type": "code",
   "execution_count": null,
   "id": "137c031a",
   "metadata": {},
   "outputs": [],
   "source": [
    "#Else sem conexão com o if\n",
    "\n",
    "x = 50\n",
    "if(x==100):\n",
    "    print('É 100!')\n",
    "x = 300\n",
    "else:\n",
    "    print('É',x)\n",
    "#Algo entre o \"if\" e o seu respectivo \"else\""
   ]
  },
  {
   "cell_type": "markdown",
   "id": "0df4127c",
   "metadata": {},
   "source": [
    "## Exercício\n",
    "\n",
    "#### A escala de Wentworth consiste de uma escala logarítmica de classificação granulométrica dos fragmentos de sedimentos clásticos (ou detríticos). Ela define os seguintes limites\n",
    "\n",
    "Sedimento | Tamanho (mm)\n",
    " :--- | :---\n",
    "Argila | grão < 0,004\n",
    "Silte | 0,004 < grão < 0,064\n",
    "Areia | 0,064 < grão < 2\n",
    "Grânulo | 2 < grão < 4\n",
    "Seixo | 4 < grão < 64\n",
    "Bloco ou calhau | 64 < grão < 256\n",
    "Matacão | grão > 256\n",
    "\n",
    "\n",
    "#### Faça um programa que solicite o tamanho do grão, em milimetro, e informe ao usuário qual a sua classificação."
   ]
  },
  {
   "cell_type": "code",
   "execution_count": null,
   "id": "3bab322f",
   "metadata": {},
   "outputs": [],
   "source": [
    "size = float(input('Digite o tamanho do grão em mm: '))\n",
    "\n",
    "if size < 0.004:\n",
    "    print('Argila')\n",
    "elif size>=0.004 and size <0.064:\n",
    "    print('Silte')\n",
    "elif size>=0.064 and size <2:\n",
    "    print('Areia')\n",
    "elif size>=2 and size <4:\n",
    "    print('Grânulo')\n",
    "elif size>=4 and size <64:\n",
    "    print('Seixo')\n",
    "elif size>=64 and size <256:\n",
    "    print('Bloco')\n",
    "else:\n",
    "    print('Matacão')"
   ]
  },
  {
   "cell_type": "markdown",
   "id": "7d1c4ea5",
   "metadata": {},
   "source": [
    "---"
   ]
  },
  {
   "cell_type": "markdown",
   "id": "a0f52fd9",
   "metadata": {},
   "source": [
    "# Estruturas de Repetição (Loops) "
   ]
  },
  {
   "cell_type": "markdown",
   "id": "fa831173",
   "metadata": {},
   "source": [
    "### *While* Loops\n",
    "\n",
    "Em Python, a função **While** é usada para executar um bloco de comandos repetidamente enquanto uma determinada condição é satisfeita. Uma vez que essa condição se torna falsa, o loop deixa de ser executado e a linha imediatamente abaixo no programa é compilada. Ex:\n",
    "\n",
    "```python\n",
    "while (condição):\n",
    "    execução\n",
    "```\n",
    "\n",
    "Nos casos anteriores a variável inteira **aux** é comumente chamada de variável auxiliar, uma vez que a condição a ser satisfeita pelo loop depende do seu valor. A variável auxiliar pode ser incrementada ou decrementada para satisfazer uma determinada condição. \n",
    "\n",
    "Mais formalmente, aqui está o fluxo de execução para uma instrução **while**:\n",
    "\n",
    "Determine se a condição é verdadeira ou falsa.\n",
    "\n",
    "    1 - Se for falsa, saia da instrução while e continue a execução da próxima instrução.\n",
    "\n",
    "    2 - Se a condição for verdadeira, execute o corpo e então volte ao passo 1.\n",
    "    \n",
    "    3 - Este tipo de fluxo chama-se loop (laço), porque o terceiro passo faz um loop de volta ao topo."
   ]
  },
  {
   "cell_type": "code",
   "execution_count": null,
   "id": "c54b8ad8",
   "metadata": {},
   "outputs": [],
   "source": [
    "#Contador de 0 a 9\n",
    "aux = 0\n",
    "while aux < 10:\n",
    "    print(aux)\n",
    "    aux = aux+1"
   ]
  },
  {
   "cell_type": "code",
   "execution_count": null,
   "id": "56590d8c",
   "metadata": {},
   "outputs": [],
   "source": [
    "aux = 9\n",
    "while aux>=0:\n",
    "    print(aux)\n",
    "    aux=aux-1"
   ]
  },
  {
   "cell_type": "markdown",
   "id": "4a670b41",
   "metadata": {},
   "source": [
    "#### Programe uma função que calcule o somatório de uma sequência numérica de 1 a n. Solicite o valor de n no terminal.\n",
    "\n",
    "$$\\sum_{i=1}^{n}i$$"
   ]
  },
  {
   "cell_type": "code",
   "execution_count": null,
   "id": "76fce593",
   "metadata": {},
   "outputs": [],
   "source": [
    "n = int(input('Digite o valor de n: '))\n",
    "aux = 1\n",
    "soma = 0\n",
    "while aux<=n:\n",
    "    soma+=aux\n",
    "    aux+=1\n",
    "print(soma)"
   ]
  },
  {
   "cell_type": "markdown",
   "id": "82762e7d",
   "metadata": {},
   "source": [
    "### Função *Range* e Laços *For*\n",
    "\n",
    "#### *range*\n",
    "\n",
    "Gera uma estrutura de sequência numérica.\n",
    "\n",
    "**Sintaxe:** range( *posição inicial (inclusive)*, *posição final (exclusive)*, *passo*)\n",
    "\n",
    "  - *range*: gerador\n",
    "  - *list*(*range*): lista"
   ]
  },
  {
   "cell_type": "code",
   "execution_count": null,
   "id": "22527bcb",
   "metadata": {},
   "outputs": [],
   "source": [
    "range(10)"
   ]
  },
  {
   "cell_type": "code",
   "execution_count": null,
   "id": "930da79b",
   "metadata": {},
   "outputs": [],
   "source": [
    "list(range(10))"
   ]
  },
  {
   "cell_type": "markdown",
   "id": "d9a1dff9",
   "metadata": {},
   "source": [
    "### *For*\n",
    "\n",
    "Laços ***for*** são utilizados para realizar uma varredura num objeto sequencial. Por exemplo fazer a varredura de uma lista, array ou string. \n",
    "\n",
    "**Sintaxe:** \n",
    "\n",
    "for variavel in sequencia:\n",
    "        \n",
    "        comandos(s)"
   ]
  },
  {
   "cell_type": "code",
   "execution_count": null,
   "id": "310980e2",
   "metadata": {},
   "outputs": [],
   "source": [
    "for i in range(0,11):\n",
    "    print(i)"
   ]
  },
  {
   "cell_type": "code",
   "execution_count": null,
   "id": "06aa78e6",
   "metadata": {},
   "outputs": [],
   "source": [
    "for i in range(0,11,2):\n",
    "    print(i,'\\t',i**2)"
   ]
  },
  {
   "cell_type": "markdown",
   "id": "b57f9fdd",
   "metadata": {},
   "source": [
    "#### Considere o modelo de duas camadas plano paralelas de velocidade $v_1$ e $v_2$, e altura $h$. Implemente as equações de tempo de trânsito de onda acústica:\n",
    "\n",
    "$$ t = \\frac{X}{v_1} \\; \\text{Onda direta} $$\n",
    "\n",
    "$$ t = \\frac{(X^2+4h^2)^{1/2}}{v_1} \\; \\text{Onda refletida} $$\n",
    "\n"
   ]
  },
  {
   "cell_type": "code",
   "execution_count": null,
   "id": "d870d2df",
   "metadata": {},
   "outputs": [],
   "source": [
    "import matplotlib.pyplot as plt\n",
    "\n",
    "h = 100 #metros\n",
    "v = 2500 #m/s\n",
    "\n",
    "#Vamos programar um arranjo com receptores espaçados de 0 a 500m a cada 25m\n",
    "\n",
    "for X in range(0,550,25):\n",
    "    td = X/v\n",
    "    tr = ((X**2 + 4*(h**2))**0.5)/v\n",
    "    plt.scatter(X,td,color='black')\n",
    "    plt.scatter(X,tr,color='red')\n",
    "    \n",
    "plt.gca().invert_yaxis()\n",
    "plt.xlabel('Receptor (m)',fontsize=14)\n",
    "plt.ylabel('Tempo (s)',fontsize=14)"
   ]
  }
 ],
 "metadata": {
  "kernelspec": {
   "display_name": "Python 3",
   "language": "python",
   "name": "python3"
  },
  "language_info": {
   "codemirror_mode": {
    "name": "ipython",
    "version": 3
   },
   "file_extension": ".py",
   "mimetype": "text/x-python",
   "name": "python",
   "nbconvert_exporter": "python",
   "pygments_lexer": "ipython3",
   "version": "3.8.8"
  }
 },
 "nbformat": 4,
 "nbformat_minor": 5
}
