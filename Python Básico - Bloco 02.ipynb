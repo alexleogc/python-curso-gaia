{
 "cells": [
  {
   "cell_type": "code",
   "execution_count": 1,
   "id": "7137ca92",
   "metadata": {},
   "outputs": [
    {
     "data": {
      "text/html": [
       "<img src=\"https://github.com/alexleogc/GEOD68_2022_01/blob/c3e18ef9426dee1d174624ae8518d335374b40af/Figs/logo-07.jpg?raw=true\" width=\"600\"/>"
      ],
      "text/plain": [
       "<IPython.core.display.Image object>"
      ]
     },
     "execution_count": 1,
     "metadata": {},
     "output_type": "execute_result"
    }
   ],
   "source": [
    "from IPython.display import Image\n",
    "Image(url='https://github.com/alexleogc/GEOD68_2022_01/blob/c3e18ef9426dee1d174624ae8518d335374b40af/Figs/logo-07.jpg?raw=true',width=600)"
   ]
  },
  {
   "cell_type": "markdown",
   "id": "316d6a26",
   "metadata": {},
   "source": [
    "# <center> Listas </center>\n",
    "\n",
    "Assim como uma string, <b> lista </b> é uma sequência de valores. Enquanto numa string os valores armazenados são caracteres, nas listas podem ser armazenados qualquer tipo de objeto, inclusive outra lista. Os valores armazenados em uma lista são chamados de <b> elementos </b> ou <b> itens</b>. <a href='https://penseallen.github.io/PensePython2e/'> (Downey, 2020)</a> e <a href='https://www.devmedia.com.br/como-trabalhar-com-listas-em-python/37460'> (Devmedia)</a>\n",
    "\n",
    "Abaixo estão descritos os principais métodos vinculados ao objeto <b> lista</b>.\n",
    "\n",
    "<table>\n",
    "  <tr>\n",
    "    <th>Método</th>\n",
    "      <th><center>Descrição</center></th>\n",
    "  </tr>\n",
    "  <tr>\n",
    "    <td>append()</td>\n",
    "    <td>Adiciona um item ao fim da lista</td>\n",
    "  </tr>\n",
    "  <tr>\n",
    "    <td>count()</td>\n",
    "    <td>Devolve o número de vezes que um valor \"x\" aparece na lista</td>\n",
    "  </tr>\n",
    "  <tr>\n",
    "    <td>extend()</td>\n",
    "    <td>Toma uma lista como argumento e adiciona todos os elementos no final da lista</td>\n",
    "  </tr>\n",
    "  <tr>\n",
    "    <td>insert()</td>\n",
    "    <td>Insere um item em uma dada posição (index).</td>\n",
    "  </tr>\n",
    "  <tr>\n",
    "    <td>remove()</td>\n",
    "    <td>Remove o primeiro item encontrado na lista</td>\n",
    "  </tr>\n",
    "  <tr>\n",
    "    <td>index()</td>\n",
    "    <td>Retorna o primeiro index de um determinado objeto, caso ele exista na lista</td>\n",
    "  </tr>\n",
    "  <tr>\n",
    "    <td>clear()</td>\n",
    "    <td>Remove todos os itens de uma lista</td>\n",
    "  </tr>\n",
    "  <tr>\n",
    "    <td>copy()</td>\n",
    "    <td>Devolve uma cópia rasa da lista</td>\n",
    "  </tr>\n",
    "    \n",
    "</table>"
   ]
  },
  {
   "cell_type": "code",
   "execution_count": 2,
   "id": "40f20f51",
   "metadata": {},
   "outputs": [
    {
     "data": {
      "text/plain": [
       "[]"
      ]
     },
     "execution_count": 2,
     "metadata": {},
     "output_type": "execute_result"
    }
   ],
   "source": [
    "#Criando uma lista vazia\n",
    "l = []\n",
    "l"
   ]
  },
  {
   "cell_type": "code",
   "execution_count": 3,
   "id": "06dfe129",
   "metadata": {},
   "outputs": [
    {
     "data": {
      "text/plain": [
       "list"
      ]
     },
     "execution_count": 3,
     "metadata": {},
     "output_type": "execute_result"
    }
   ],
   "source": [
    "type(l)"
   ]
  },
  {
   "cell_type": "markdown",
   "id": "535aad1f",
   "metadata": {},
   "source": [
    "Podemos criar listas com objetos do mesmo tipos"
   ]
  },
  {
   "cell_type": "code",
   "execution_count": 4,
   "id": "e1664bcc",
   "metadata": {},
   "outputs": [
    {
     "data": {
      "text/plain": [
       "[10, 20, 30, 40, 50]"
      ]
     },
     "execution_count": 4,
     "metadata": {},
     "output_type": "execute_result"
    }
   ],
   "source": [
    "l_int = [10,20,30,40,50]\n",
    "l_int"
   ]
  },
  {
   "cell_type": "code",
   "execution_count": 5,
   "id": "5b10cef5",
   "metadata": {},
   "outputs": [
    {
     "data": {
      "text/plain": [
       "['geólogos', 'geofísicos', 'geográfos', 'Oceanográfos']"
      ]
     },
     "execution_count": 5,
     "metadata": {},
     "output_type": "execute_result"
    }
   ],
   "source": [
    "l_st = ['geólogos','geofísicos','geográfos','Oceanográfos']\n",
    "l_st"
   ]
  },
  {
   "cell_type": "markdown",
   "id": "8b6428ee",
   "metadata": {},
   "source": [
    "ou simplesmente podemos armazenar objetos de tipos variados"
   ]
  },
  {
   "cell_type": "code",
   "execution_count": 8,
   "id": "8d347a02",
   "metadata": {},
   "outputs": [
    {
     "data": {
      "text/plain": [
       "['Geologia', 10, 3.14, [10, 20], 'Geofísica']"
      ]
     },
     "execution_count": 8,
     "metadata": {},
     "output_type": "execute_result"
    }
   ],
   "source": [
    "l_1 = ['Geologia',10,3.14,[10,20],'Geofísica']\n",
    "l_1"
   ]
  },
  {
   "cell_type": "markdown",
   "id": "b037f3c4",
   "metadata": {},
   "source": [
    "Para acessar o tamanho da lista, podemos utilizar a função <b>len</b>:"
   ]
  },
  {
   "cell_type": "code",
   "execution_count": 9,
   "id": "f9f510fd",
   "metadata": {},
   "outputs": [
    {
     "data": {
      "text/plain": [
       "5"
      ]
     },
     "execution_count": 9,
     "metadata": {},
     "output_type": "execute_result"
    }
   ],
   "source": [
    "len(l_1)"
   ]
  },
  {
   "cell_type": "markdown",
   "id": "208307d9",
   "metadata": {},
   "source": [
    "### Slice\n",
    "\n",
    "Um segmento de um iterável é chamado de <b> fatia (<i>Slice</i>) </b>. Podemos definir as operações do slice para um dado elemento iterável s como:\n",
    "\n",
    "<center> s[index$_{ini}$:index$_{fim}$:passo]. </center>"
   ]
  },
  {
   "cell_type": "code",
   "execution_count": 10,
   "id": "3d92887d",
   "metadata": {},
   "outputs": [],
   "source": [
    "l_num = [3.15,10,2,21,10,10,11,50,25,51.45]"
   ]
  },
  {
   "cell_type": "code",
   "execution_count": 11,
   "id": "dbe0085b",
   "metadata": {},
   "outputs": [
    {
     "data": {
      "text/plain": [
       "10"
      ]
     },
     "execution_count": 11,
     "metadata": {},
     "output_type": "execute_result"
    }
   ],
   "source": [
    "len(l_num)"
   ]
  },
  {
   "cell_type": "code",
   "execution_count": 12,
   "id": "a15edd99",
   "metadata": {},
   "outputs": [
    {
     "data": {
      "text/plain": [
       "[3.15, 10, 2, 21, 10]"
      ]
     },
     "execution_count": 12,
     "metadata": {},
     "output_type": "execute_result"
    }
   ],
   "source": [
    "#Acessando os cinco primeiros elementos\n",
    "l_num[0:5]"
   ]
  },
  {
   "cell_type": "code",
   "execution_count": 13,
   "id": "c988bae5",
   "metadata": {},
   "outputs": [
    {
     "data": {
      "text/plain": [
       "[3.15, 10, 2, 21, 10]"
      ]
     },
     "execution_count": 13,
     "metadata": {},
     "output_type": "execute_result"
    }
   ],
   "source": [
    "#Acessando os cinco primeiros elementos\n",
    "l_num[:5]"
   ]
  },
  {
   "cell_type": "code",
   "execution_count": 15,
   "id": "fd8c3b44",
   "metadata": {},
   "outputs": [
    {
     "data": {
      "text/plain": [
       "[10, 21, 10, 50]"
      ]
     },
     "execution_count": 15,
     "metadata": {},
     "output_type": "execute_result"
    }
   ],
   "source": [
    "#Acessando os elementos de 1 a 9 de 2 em 2\n",
    "l_num[1:9:2]"
   ]
  },
  {
   "cell_type": "code",
   "execution_count": 14,
   "id": "b42c6885",
   "metadata": {},
   "outputs": [
    {
     "data": {
      "text/plain": [
       "[3.15, 2, 10, 11, 25]"
      ]
     },
     "execution_count": 14,
     "metadata": {},
     "output_type": "execute_result"
    }
   ],
   "source": [
    "#Acessando os elementos de 2 em 2\n",
    "l_num[::2]"
   ]
  },
  {
   "cell_type": "markdown",
   "id": "a9fe743d",
   "metadata": {},
   "source": [
    "### Métodos de listas \n",
    "\n",
    "<b>append(x)</b> - adiciona objeto x no final da lista"
   ]
  },
  {
   "cell_type": "code",
   "execution_count": 21,
   "id": "8cc510e8",
   "metadata": {},
   "outputs": [
    {
     "name": "stdout",
     "output_type": "stream",
     "text": [
      "[3.15, 10, 2, 21, 10, 10, 11, 50, 25, 51.45, 21.95, 21.95]\n"
     ]
    }
   ],
   "source": [
    "l_num.append(21.95)\n",
    "print(l_num)"
   ]
  },
  {
   "cell_type": "markdown",
   "id": "32bbb3b1",
   "metadata": {},
   "source": [
    "<b>insert()</b> - Adiciona elemento na posição desejada"
   ]
  },
  {
   "cell_type": "code",
   "execution_count": 25,
   "id": "a93c9e7a",
   "metadata": {},
   "outputs": [
    {
     "data": {
      "text/plain": [
       "[3.15, 10, 'teste', 'teste', 2, 21, 10, 10, 11, 50, 25, 51.45, 21.95, 21.95]"
      ]
     },
     "execution_count": 25,
     "metadata": {},
     "output_type": "execute_result"
    }
   ],
   "source": [
    "l_num.insert(2,'teste')\n",
    "l_num"
   ]
  },
  {
   "cell_type": "markdown",
   "id": "f08b93e4",
   "metadata": {},
   "source": [
    "<b>pop()</b> - Elimina um item da lista dado um index"
   ]
  },
  {
   "cell_type": "code",
   "execution_count": 26,
   "id": "1d92209a",
   "metadata": {},
   "outputs": [
    {
     "data": {
      "text/plain": [
       "[3.15, 10, 'teste', 2, 21, 10, 10, 11, 50, 25, 51.45, 21.95, 21.95]"
      ]
     },
     "execution_count": 26,
     "metadata": {},
     "output_type": "execute_result"
    }
   ],
   "source": [
    "l_num.pop(2)\n",
    "l_num"
   ]
  },
  {
   "cell_type": "markdown",
   "id": "2c2a1a36",
   "metadata": {},
   "source": [
    "<b>sort()</b> - Organiza itens de uma lista em ordem crescente"
   ]
  },
  {
   "cell_type": "code",
   "execution_count": 28,
   "id": "65421b5d",
   "metadata": {},
   "outputs": [
    {
     "ename": "TypeError",
     "evalue": "'<' not supported between instances of 'str' and 'int'",
     "output_type": "error",
     "traceback": [
      "\u001b[1;31m---------------------------------------------------------------------------\u001b[0m",
      "\u001b[1;31mTypeError\u001b[0m                                 Traceback (most recent call last)",
      "\u001b[1;32m~\\AppData\\Local\\Temp/ipykernel_18640/405481356.py\u001b[0m in \u001b[0;36m<module>\u001b[1;34m\u001b[0m\n\u001b[1;32m----> 1\u001b[1;33m \u001b[0ml_num\u001b[0m\u001b[1;33m.\u001b[0m\u001b[0msort\u001b[0m\u001b[1;33m(\u001b[0m\u001b[1;33m)\u001b[0m\u001b[1;33m\u001b[0m\u001b[1;33m\u001b[0m\u001b[0m\n\u001b[0m\u001b[0;32m      2\u001b[0m \u001b[0mprint\u001b[0m\u001b[1;33m(\u001b[0m\u001b[0ml_num\u001b[0m\u001b[1;33m)\u001b[0m\u001b[1;33m\u001b[0m\u001b[1;33m\u001b[0m\u001b[0m\n",
      "\u001b[1;31mTypeError\u001b[0m: '<' not supported between instances of 'str' and 'int'"
     ]
    }
   ],
   "source": [
    "l_num.sort()\n",
    "print(l_num)"
   ]
  },
  {
   "cell_type": "code",
   "execution_count": 29,
   "id": "bca2cb38",
   "metadata": {},
   "outputs": [
    {
     "data": {
      "text/plain": [
       "[3.15, 10, 2, 21, 10, 10, 11, 50, 25, 51.45, 21.95, 21.95]"
      ]
     },
     "execution_count": 29,
     "metadata": {},
     "output_type": "execute_result"
    }
   ],
   "source": [
    "l_num.pop(2)\n",
    "l_num"
   ]
  },
  {
   "cell_type": "code",
   "execution_count": 30,
   "id": "fe3883e9",
   "metadata": {},
   "outputs": [
    {
     "name": "stdout",
     "output_type": "stream",
     "text": [
      "[2, 3.15, 10, 10, 10, 11, 21, 21.95, 21.95, 25, 50, 51.45]\n"
     ]
    }
   ],
   "source": [
    "l_num.sort()\n",
    "print(l_num)"
   ]
  },
  {
   "cell_type": "markdown",
   "id": "a978e5ce",
   "metadata": {},
   "source": [
    "#### Vamos calcular o tempo de trânsito novamente armazenando os valores do tempo em listas"
   ]
  },
  {
   "cell_type": "code",
   "execution_count": 34,
   "id": "b35b579b",
   "metadata": {},
   "outputs": [
    {
     "data": {
      "text/plain": [
       "Text(0, 0.5, 'Tempo (s)')"
      ]
     },
     "execution_count": 34,
     "metadata": {},
     "output_type": "execute_result"
    },
    {
     "data": {
      "image/png": "[encoded data removed]",
      "text/plain": [
       "<Figure size 432x288 with 1 Axes>"
      ]
     },
     "metadata": {
      "needs_background": "light"
     },
     "output_type": "display_data"
    }
   ],
   "source": [
    "import matplotlib.pyplot as plt\n",
    "\n",
    "h = 100 #metros\n",
    "v = 2500 #m/s\n",
    "\n",
    "#Vamos programar um arranjo com receptores espaçados de 0 a 500m a cada 25m\n",
    "\n",
    "X = [] # Lista para armazenar receptores\n",
    "td = [] # Tempo da onda direta\n",
    "tr = [] # Tempo da onda refletida\n",
    "\n",
    "for i in range(0,550,25):\n",
    "    X.append(i)\n",
    "    td.append(i/v) \n",
    "    tr.append(((i**2 + 4*(h**2))**0.5)/v)\n",
    "    \n",
    "plt.plot(X,td,color='black',label='Onda direta')\n",
    "plt.plot(X,tr,color='red',ls='--',label='Onda refletida')\n",
    "\n",
    "plt.legend()\n",
    "\n",
    "\n",
    "plt.gca().invert_yaxis()\n",
    "plt.xlabel('Receptor (m)',fontsize=14)\n",
    "plt.ylabel('Tempo (s)',fontsize=14)"
   ]
  },
  {
   "cell_type": "code",
   "execution_count": null,
   "id": "1d499651",
   "metadata": {},
   "outputs": [],
   "source": []
  }
 ],
 "metadata": {
  "kernelspec": {
   "display_name": "Python 3 (ipykernel)",
   "language": "python",
   "name": "python3"
  },
  "language_info": {
   "codemirror_mode": {
    "name": "ipython",
    "version": 3
   },
   "file_extension": ".py",
   "mimetype": "text/x-python",
   "name": "python",
   "nbconvert_exporter": "python",
   "pygments_lexer": "ipython3",
   "version": "3.9.7"
  }
 },
 "nbformat": 4,
 "nbformat_minor": 5
}
