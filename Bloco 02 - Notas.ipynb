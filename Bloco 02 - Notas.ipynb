{
 "cells": [
  {
   "cell_type": "code",
   "execution_count": 1,
   "id": "7137ca92",
   "metadata": {},
   "outputs": [
    {
     "data": {
      "text/html": [
       "<img src=\"https://github.com/alexleogc/GEOD68_2022_01/blob/c3e18ef9426dee1d174624ae8518d335374b40af/Figs/logo-07.jpg?raw=true\" width=\"600\"/>"
      ],
      "text/plain": [
       "<IPython.core.display.Image object>"
      ]
     },
     "execution_count": 1,
     "metadata": {},
     "output_type": "execute_result"
    }
   ],
   "source": [
    "from IPython.display import Image\n",
    "Image(url='https://github.com/alexleogc/GEOD68_2022_01/blob/c3e18ef9426dee1d174624ae8518d335374b40af/Figs/logo-07.jpg?raw=true',width=600)"
   ]
  },
  {
   "cell_type": "markdown",
   "id": "316d6a26",
   "metadata": {},
   "source": [
    "# <center> Listas </center>\n",
    "\n",
    "Assim como uma string, <b> lista </b> é uma sequência de valores. Enquanto numa string os valores armazenados são caracteres, nas listas podem ser armazenados qualquer tipo de objeto, inclusive outra lista. Os valores armazenados em uma lista são chamados de <b> elementos </b> ou <b> itens</b>. <a href='https://penseallen.github.io/PensePython2e/'> (Downey, 2020)</a> e <a href='https://www.devmedia.com.br/como-trabalhar-com-listas-em-python/37460'> (Devmedia)</a>\n",
    "\n",
    "Abaixo estão descritos os principais métodos vinculados ao objeto <b> lista</b>.\n",
    "\n",
    "<table>\n",
    "  <tr>\n",
    "    <th>Método</th>\n",
    "      <th><center>Descrição</center></th>\n",
    "  </tr>\n",
    "  <tr>\n",
    "    <td>append()</td>\n",
    "    <td>Adiciona um item ao fim da lista</td>\n",
    "  </tr>\n",
    "  <tr>\n",
    "    <td>count()</td>\n",
    "    <td>Devolve o número de vezes que um valor \"x\" aparece na lista</td>\n",
    "  </tr>\n",
    "  <tr>\n",
    "    <td>extend()</td>\n",
    "    <td>Toma uma lista como argumento e adiciona todos os elementos no final da lista</td>\n",
    "  </tr>\n",
    "  <tr>\n",
    "    <td>insert()</td>\n",
    "    <td>Insere um item em uma dada posição (index).</td>\n",
    "  </tr>\n",
    "  <tr>\n",
    "    <td>remove()</td>\n",
    "    <td>Remove o primeiro item encontrado na lista</td>\n",
    "  </tr>\n",
    "  <tr>\n",
    "    <td>index()</td>\n",
    "    <td>Retorna o primeiro index de um determinado objeto, caso ele exista na lista</td>\n",
    "  </tr>\n",
    "  <tr>\n",
    "    <td>clear()</td>\n",
    "    <td>Remove todos os itens de uma lista</td>\n",
    "  </tr>\n",
    "  <tr>\n",
    "    <td>copy()</td>\n",
    "    <td>Devolve uma cópia rasa da lista</td>\n",
    "  </tr>\n",
    "    \n",
    "</table>"
   ]
  },
  {
   "cell_type": "code",
   "execution_count": 2,
   "id": "40f20f51",
   "metadata": {},
   "outputs": [
    {
     "data": {
      "text/plain": [
       "[]"
      ]
     },
     "execution_count": 2,
     "metadata": {},
     "output_type": "execute_result"
    }
   ],
   "source": [
    "#Criando uma lista vazia\n"
   ]
  },
  {
   "cell_type": "code",
   "execution_count": 3,
   "id": "06dfe129",
   "metadata": {},
   "outputs": [
    {
     "data": {
      "text/plain": [
       "list"
      ]
     },
     "execution_count": 3,
     "metadata": {},
     "output_type": "execute_result"
    }
   ],
   "source": []
  },
  {
   "cell_type": "markdown",
   "id": "535aad1f",
   "metadata": {},
   "source": [
    "Podemos criar listas com objetos do mesmo tipos"
   ]
  },
  {
   "cell_type": "code",
   "execution_count": 4,
   "id": "e1664bcc",
   "metadata": {},
   "outputs": [
    {
     "data": {
      "text/plain": [
       "[10, 20, 30, 40, 50]"
      ]
     },
     "execution_count": 4,
     "metadata": {},
     "output_type": "execute_result"
    }
   ],
   "source": []
  },
  {
   "cell_type": "code",
   "execution_count": 5,
   "id": "5b10cef5",
   "metadata": {},
   "outputs": [
    {
     "data": {
      "text/plain": [
       "['geólogos', 'geofísicos', 'geográfos', 'Oceanográfos']"
      ]
     },
     "execution_count": 5,
     "metadata": {},
     "output_type": "execute_result"
    }
   ],
   "source": [
    "l_st = ['geólogos','geofísicos','geográfos','Oceanográfos']\n",
    "l_st"
   ]
  },
  {
   "cell_type": "markdown",
   "id": "8b6428ee",
   "metadata": {},
   "source": [
    "ou simplesmente podemos armazenar objetos de tipos variados"
   ]
  },
  {
   "cell_type": "code",
   "execution_count": 6,
   "id": "8d347a02",
   "metadata": {},
   "outputs": [
    {
     "data": {
      "text/plain": [
       "['Geologia', 10, 3.14, [10, 20], 'Geofísica']"
      ]
     },
     "execution_count": 6,
     "metadata": {},
     "output_type": "execute_result"
    }
   ],
   "source": []
  },
  {
   "cell_type": "markdown",
   "id": "b037f3c4",
   "metadata": {},
   "source": [
    "Para acessar o tamanho da lista, podemos utilizar a função <b>len</b>:"
   ]
  },
  {
   "cell_type": "code",
   "execution_count": 7,
   "id": "f9f510fd",
   "metadata": {},
   "outputs": [
    {
     "data": {
      "text/plain": [
       "5"
      ]
     },
     "execution_count": 7,
     "metadata": {},
     "output_type": "execute_result"
    }
   ],
   "source": []
  },
  {
   "cell_type": "markdown",
   "id": "208307d9",
   "metadata": {},
   "source": [
    "### Slice\n",
    "\n",
    "Um segmento de um iterável é chamado de <b> fatia (<i>Slice</i>) </b>. Podemos definir as operações do slice para um dado elemento iterável s como:\n",
    "\n",
    "<center> s[index$_{ini}$:index$_{fim}$:passo]. </center>"
   ]
  },
  {
   "cell_type": "code",
   "execution_count": 8,
   "id": "3d92887d",
   "metadata": {},
   "outputs": [],
   "source": [
    "l_num = [3.15,10,2,21,10,10,11,50,25,51.45]"
   ]
  },
  {
   "cell_type": "code",
   "execution_count": 9,
   "id": "dbe0085b",
   "metadata": {},
   "outputs": [
    {
     "data": {
      "text/plain": [
       "10"
      ]
     },
     "execution_count": 9,
     "metadata": {},
     "output_type": "execute_result"
    }
   ],
   "source": []
  },
  {
   "cell_type": "code",
   "execution_count": 10,
   "id": "a15edd99",
   "metadata": {},
   "outputs": [
    {
     "data": {
      "text/plain": [
       "[3.15, 10, 2, 21, 10]"
      ]
     },
     "execution_count": 10,
     "metadata": {},
     "output_type": "execute_result"
    }
   ],
   "source": [
    "#Acessando os cinco primeiros elementos\n"
   ]
  },
  {
   "cell_type": "code",
   "execution_count": 11,
   "id": "c988bae5",
   "metadata": {},
   "outputs": [
    {
     "data": {
      "text/plain": [
       "[3.15, 10, 2, 21, 10]"
      ]
     },
     "execution_count": 11,
     "metadata": {},
     "output_type": "execute_result"
    }
   ],
   "source": [
    "#Acessando os cinco primeiros elementos\n"
   ]
  },
  {
   "cell_type": "code",
   "execution_count": 12,
   "id": "fd8c3b44",
   "metadata": {},
   "outputs": [
    {
     "data": {
      "text/plain": [
       "[10, 21, 10, 50]"
      ]
     },
     "execution_count": 12,
     "metadata": {},
     "output_type": "execute_result"
    }
   ],
   "source": [
    "#Acessando os elementos de 1 a 9 de 2 em 2\n"
   ]
  },
  {
   "cell_type": "code",
   "execution_count": 13,
   "id": "b42c6885",
   "metadata": {},
   "outputs": [
    {
     "data": {
      "text/plain": [
       "[3.15, 2, 10, 11, 25]"
      ]
     },
     "execution_count": 13,
     "metadata": {},
     "output_type": "execute_result"
    }
   ],
   "source": [
    "#Acessando os elementos de 2 em 2\n"
   ]
  },
  {
   "cell_type": "markdown",
   "id": "a9fe743d",
   "metadata": {},
   "source": [
    "### Métodos de listas \n",
    "\n",
    "<b>append(x)</b> - adiciona objeto x no final da lista"
   ]
  },
  {
   "cell_type": "code",
   "execution_count": 14,
   "id": "8cc510e8",
   "metadata": {},
   "outputs": [
    {
     "name": "stdout",
     "output_type": "stream",
     "text": [
      "[3.15, 10, 2, 21, 10, 10, 11, 50, 25, 51.45, 21.95]\n"
     ]
    }
   ],
   "source": []
  },
  {
   "cell_type": "markdown",
   "id": "32bbb3b1",
   "metadata": {},
   "source": [
    "<b>insert()</b> - Adiciona elemento na posição desejada"
   ]
  },
  {
   "cell_type": "code",
   "execution_count": 15,
   "id": "a93c9e7a",
   "metadata": {},
   "outputs": [
    {
     "data": {
      "text/plain": [
       "[3.15, 10, 'teste', 2, 21, 10, 10, 11, 50, 25, 51.45, 21.95]"
      ]
     },
     "execution_count": 15,
     "metadata": {},
     "output_type": "execute_result"
    }
   ],
   "source": []
  },
  {
   "cell_type": "markdown",
   "id": "f08b93e4",
   "metadata": {},
   "source": [
    "<b>pop()</b> - Elimina um item da lista dado um index"
   ]
  },
  {
   "cell_type": "code",
   "execution_count": 16,
   "id": "1d92209a",
   "metadata": {},
   "outputs": [
    {
     "data": {
      "text/plain": [
       "[3.15, 10, 2, 21, 10, 10, 11, 50, 25, 51.45, 21.95]"
      ]
     },
     "execution_count": 16,
     "metadata": {},
     "output_type": "execute_result"
    }
   ],
   "source": []
  },
  {
   "cell_type": "markdown",
   "id": "2c2a1a36",
   "metadata": {},
   "source": [
    "<b>sort()</b> - Organiza itens de uma lista em ordem crescente"
   ]
  },
  {
   "cell_type": "code",
   "execution_count": 17,
   "id": "65421b5d",
   "metadata": {},
   "outputs": [
    {
     "name": "stdout",
     "output_type": "stream",
     "text": [
      "[2, 3.15, 10, 10, 10, 11, 21, 21.95, 25, 50, 51.45]\n"
     ]
    }
   ],
   "source": []
  },
  {
   "cell_type": "code",
   "execution_count": 18,
   "id": "bca2cb38",
   "metadata": {},
   "outputs": [
    {
     "data": {
      "text/plain": [
       "[2, 3.15, 10, 10, 11, 21, 21.95, 25, 50, 51.45]"
      ]
     },
     "execution_count": 18,
     "metadata": {},
     "output_type": "execute_result"
    }
   ],
   "source": []
  },
  {
   "cell_type": "code",
   "execution_count": 19,
   "id": "fe3883e9",
   "metadata": {},
   "outputs": [
    {
     "name": "stdout",
     "output_type": "stream",
     "text": [
      "[2, 3.15, 10, 10, 11, 21, 21.95, 25, 50, 51.45]\n"
     ]
    }
   ],
   "source": []
  },
  {
   "cell_type": "markdown",
   "id": "a978e5ce",
   "metadata": {},
   "source": [
    "#### Vamos calcular o tempo de trânsito novamente armazenando os valores do tempo em listas"
   ]
  },
  {
   "cell_type": "code",
   "execution_count": 20,
   "id": "b35b579b",
   "metadata": {},
   "outputs": [
    {
     "data": {
      "text/plain": [
       "Text(0, 0.5, 'Tempo (s)')"
      ]
     },
     "execution_count": 20,
     "metadata": {},
     "output_type": "execute_result"
    },
    {
     "data": {
      "image/png": "[encoded data removed]",
      "text/plain": [
       "<Figure size 432x288 with 1 Axes>"
      ]
     },
     "metadata": {
      "needs_background": "light"
     },
     "output_type": "display_data"
    }
   ],
   "source": [
    "import matplotlib.pyplot as plt\n",
    "\n",
    "h = 100 #metros\n",
    "v = 2500 #m/s\n",
    "\n",
    "#Vamos programar um arranjo com receptores espaçados de 0 a 500m a cada 25m\n",
    "\n",
    "X = [] # Lista para armazenar receptores\n",
    "td = [] # Tempo da onda direta\n",
    "tr = [] # Tempo da onda refletida\n",
    "\n",
    "for i in range(0,550,25):\n",
    "    X.append(i)\n",
    "    td.append(i/v) \n",
    "    tr.append(((i**2 + 4*(h**2))**0.5)/v)\n",
    "    \n",
    "plt.plot(X,td,color='black',label='Onda direta')\n",
    "plt.plot(X,tr,color='red',ls='--',label='Onda refletida')\n",
    "\n",
    "plt.legend()\n",
    "\n",
    "\n",
    "plt.gca().invert_yaxis()\n",
    "plt.xlabel('Receptor (m)',fontsize=14)\n",
    "plt.ylabel('Tempo (s)',fontsize=14)"
   ]
  },
  {
   "cell_type": "markdown",
   "id": "346e5caf",
   "metadata": {},
   "source": [
    "Existem várias formas de se iterar através de uma lista, e o modo mais comum é utilizar o for (loop):"
   ]
  },
  {
   "cell_type": "code",
   "execution_count": 30,
   "id": "93093119",
   "metadata": {},
   "outputs": [
    {
     "name": "stdout",
     "output_type": "stream",
     "text": [
      "0\n",
      "25\n",
      "50\n",
      "75\n",
      "100\n",
      "125\n",
      "150\n",
      "175\n",
      "200\n",
      "225\n",
      "250\n",
      "275\n",
      "300\n",
      "325\n",
      "350\n",
      "375\n",
      "400\n",
      "425\n",
      "450\n",
      "475\n",
      "500\n",
      "525\n"
     ]
    }
   ],
   "source": []
  },
  {
   "cell_type": "code",
   "execution_count": 31,
   "id": "b905e6be",
   "metadata": {},
   "outputs": [
    {
     "name": "stdout",
     "output_type": "stream",
     "text": [
      "0\n",
      "25\n",
      "50\n",
      "75\n",
      "100\n",
      "125\n",
      "150\n",
      "175\n",
      "200\n",
      "225\n",
      "250\n",
      "275\n",
      "300\n",
      "325\n",
      "350\n",
      "375\n",
      "400\n",
      "425\n",
      "450\n",
      "475\n",
      "500\n",
      "525\n"
     ]
    }
   ],
   "source": []
  },
  {
   "cell_type": "code",
   "execution_count": 35,
   "id": "a3e7e433",
   "metadata": {},
   "outputs": [
    {
     "name": "stdout",
     "output_type": "stream",
     "text": [
      "Estação \t Tempo Direta\n",
      "0 \t  \t 0.0\n",
      "25 \t  \t 0.01\n",
      "50 \t  \t 0.02\n",
      "75 \t  \t 0.03\n",
      "100 \t  \t 0.04\n",
      "125 \t  \t 0.05\n",
      "150 \t  \t 0.06\n",
      "175 \t  \t 0.07\n",
      "200 \t  \t 0.08\n",
      "225 \t  \t 0.09\n",
      "250 \t  \t 0.1\n",
      "275 \t  \t 0.11\n",
      "300 \t  \t 0.12\n",
      "325 \t  \t 0.13\n",
      "350 \t  \t 0.14\n",
      "375 \t  \t 0.15\n",
      "400 \t  \t 0.16\n",
      "425 \t  \t 0.17\n",
      "450 \t  \t 0.18\n",
      "475 \t  \t 0.19\n",
      "500 \t  \t 0.2\n",
      "525 \t  \t 0.21\n"
     ]
    }
   ],
   "source": [
    "print('Estação \\t Tempo Direta')\n"
   ]
  },
  {
   "cell_type": "markdown",
   "id": "f27e80a2",
   "metadata": {},
   "source": [
    "# Dicionários\n",
    "\n",
    " O <b>dicionário</b> funciona como uma <b>estrutura de mapeamento</b>, ligando uma <b>chave</b> a um determinado <b>valor</b>.\n",
    "```python\n",
    "dicionario = {chave:valor}\n",
    "```\n",
    "\n",
    "Assim como as listas, o dicionário é um objeto <b>mutável</b> que aceita qualquer tipo de objeto como valor.\n",
    "\n",
    "<table>\n",
    "    <tr>\n",
    "        <th><b>Método</b></th>\n",
    "        <th> Descrição </th>\n",
    "    </tr>\n",
    "    <tr>\n",
    "        <td>get()</td>\n",
    "        <td>Retorna o valor associado a chave passada</td>\n",
    "    </tr>\n",
    "    <tr>\n",
    "        <td>update()</td>\n",
    "        <td>Atualiza ou adiciona novos itens ao dicionário</td>\n",
    "    </tr>\n",
    "    <tr>\n",
    "        <td>keys()</td>\n",
    "        <td>Retorna as chaves do dicionário</td>\n",
    "    </tr>\n",
    "    <tr>\n",
    "        <td>items()</td>\n",
    "        <td>Retorna os pares (chave,valor) do dicionário</td>\n",
    "    </tr>\n",
    "    <tr>\n",
    "        <td>values()</td>\n",
    "        <td>Retorna os valores do dicionário</td>\n",
    "    </tr>\n",
    "    <tr>\n",
    "        <td>pop()</td>\n",
    "        <td>Remove uma chave e retorna o seu valor</td>\n",
    "    </tr>\n",
    "    <tr>\n",
    "        <td>clear()</td>\n",
    "        <td>Remove todos os itens de um dicionário</td>\n",
    "    </tr>\n",
    "    <tr>\n",
    "        <td>copy()</td>\n",
    "        <td>Devolve uma cópia rasa do dicionário</td>\n",
    "    </tr>\n",
    "</table>"
   ]
  },
  {
   "cell_type": "code",
   "execution_count": 21,
   "id": "51a2b174",
   "metadata": {},
   "outputs": [
    {
     "data": {
      "text/plain": [
       "{}"
      ]
     },
     "execution_count": 21,
     "metadata": {},
     "output_type": "execute_result"
    }
   ],
   "source": [
    "#Criando um dicionário vazio\n"
   ]
  },
  {
   "cell_type": "code",
   "execution_count": 22,
   "id": "4b0e5b96",
   "metadata": {},
   "outputs": [
    {
     "name": "stdout",
     "output_type": "stream",
     "text": [
      "{'Posição': [0, 25, 50, 75, 100, 125, 150, 175, 200, 225, 250, 275, 300, 325, 350, 375, 400, 425, 450, 475, 500, 525]}\n"
     ]
    }
   ],
   "source": [
    "#Adicionando informações ao dicionário\n"
   ]
  },
  {
   "cell_type": "code",
   "execution_count": 23,
   "id": "9628e687",
   "metadata": {},
   "outputs": [],
   "source": [
    "#Adicionando os tempos\n"
   ]
  },
  {
   "cell_type": "code",
   "execution_count": 24,
   "id": "53ce58c2",
   "metadata": {},
   "outputs": [
    {
     "name": "stdout",
     "output_type": "stream",
     "text": [
      "{'Posição': [0, 25, 50, 75, 100, 125, 150, 175, 200, 225, 250, 275, 300, 325, 350, 375, 400, 425, 450, 475, 500, 525], 'Tempo direta': [0.0, 0.01, 0.02, 0.03, 0.04, 0.05, 0.06, 0.07, 0.08, 0.09, 0.1, 0.11, 0.12, 0.13, 0.14, 0.15, 0.16, 0.17, 0.18, 0.19, 0.2, 0.21], 'Tempo refletida': [0.08, 0.08062257748298549, 0.0824621125123532, 0.08544003745317531, 0.08944271909999159, 0.09433981132056604, 0.1, 0.1063014581273465, 0.1131370849898476, 0.12041594578792296, 0.12806248474865697, 0.13601470508735442, 0.14422205101855956, 0.15264337522473748, 0.16124515496597097, 0.17, 0.17888543819998318, 0.18788294228055935, 0.19697715603592209, 0.20615528128088303, 0.21540659228538014, 0.22472205054244232]}\n"
     ]
    }
   ],
   "source": [
    "print(survey)"
   ]
  },
  {
   "cell_type": "code",
   "execution_count": 25,
   "id": "73ec5c97",
   "metadata": {},
   "outputs": [
    {
     "name": "stdout",
     "output_type": "stream",
     "text": [
      "[0.0, 0.01, 0.02, 0.03, 0.04, 0.05, 0.06, 0.07, 0.08, 0.09, 0.1, 0.11, 0.12, 0.13, 0.14, 0.15, 0.16, 0.17, 0.18, 0.19, 0.2, 0.21]\n"
     ]
    }
   ],
   "source": [
    "#Acessando valores\n"
   ]
  },
  {
   "cell_type": "code",
   "execution_count": 26,
   "id": "37604c68",
   "metadata": {},
   "outputs": [
    {
     "name": "stdout",
     "output_type": "stream",
     "text": [
      "{'Estação': [0, 25, 50, 75, 100, 125, 150, 175, 200, 225, 250, 275, 300, 325, 350, 375, 400, 425, 450, 475, 500, 525], 'Tempo direta': [0.0, 0.01, 0.02, 0.03, 0.04, 0.05, 0.06, 0.07, 0.08, 0.09, 0.1, 0.11, 0.12, 0.13, 0.14, 0.15, 0.16, 0.17, 0.18, 0.19, 0.2, 0.21], 'Tempo refletida': [0.08, 0.08062257748298549, 0.0824621125123532, 0.08544003745317531, 0.08944271909999159, 0.09433981132056604, 0.1, 0.1063014581273465, 0.1131370849898476, 0.12041594578792296, 0.12806248474865697, 0.13601470508735442, 0.14422205101855956, 0.15264337522473748, 0.16124515496597097, 0.17, 0.17888543819998318, 0.18788294228055935, 0.19697715603592209, 0.20615528128088303, 0.21540659228538014, 0.22472205054244232]}\n"
     ]
    }
   ],
   "source": [
    "#Podemos criar o mesmo dicionário usando a seguinte sintaxe\n",
    "\n",
    "print(survey)"
   ]
  },
  {
   "cell_type": "code",
   "execution_count": 27,
   "id": "a106b70d",
   "metadata": {},
   "outputs": [
    {
     "data": {
      "text/plain": [
       "Text(0, 0.5, 'Tempo (s)')"
      ]
     },
     "execution_count": 27,
     "metadata": {},
     "output_type": "execute_result"
    },
    {
     "data": {
      "image/png": "[encoded data removed]",
      "text/plain": [
       "<Figure size 432x288 with 1 Axes>"
      ]
     },
     "metadata": {
      "needs_background": "light"
     },
     "output_type": "display_data"
    }
   ],
   "source": [
    "h = 100 #metros\n",
    "v = 2500 #m/s\n",
    "\n",
    "    \n",
    "plt.plot(survey['Estação'],survey['Tempo direta'],color='black',label='Onda direta')\n",
    "plt.plot(survey['Estação'],survey['Tempo refletida'],color='red',ls='--',label='Onda refletida')\n",
    "\n",
    "plt.legend()\n",
    "\n",
    "\n",
    "plt.gca().invert_yaxis()\n",
    "plt.xlabel('Receptor (m)',fontsize=14)\n",
    "plt.ylabel('Tempo (s)',fontsize=14)"
   ]
  },
  {
   "cell_type": "code",
   "execution_count": 28,
   "id": "430977b5",
   "metadata": {},
   "outputs": [
    {
     "data": {
      "text/plain": [
       "dict_keys(['Estação', 'Tempo direta', 'Tempo refletida'])"
      ]
     },
     "execution_count": 28,
     "metadata": {},
     "output_type": "execute_result"
    }
   ],
   "source": [
    "#Consultando as chaves\n"
   ]
  },
  {
   "cell_type": "code",
   "execution_count": 29,
   "id": "ac6a26b0",
   "metadata": {},
   "outputs": [
    {
     "name": "stdout",
     "output_type": "stream",
     "text": [
      "{'Estação': [0, 25, 50, 75, 100, 125, 150, 175, 200, 225, 250, 275, 300, 325, 350, 375, 400, 425, 450, 475, 500, 525], 'Tempo direta': [0.0, 0.01, 0.02, 0.03, 0.04, 0.05, 0.06, 0.07, 0.08, 0.09, 0.1, 0.11, 0.12, 0.13, 0.14, 0.15, 0.16, 0.17, 0.18, 0.19, 0.2, 0.21]}\n"
     ]
    }
   ],
   "source": [
    "#Removendo chave\n",
    "print(survey)"
   ]
  },
  {
   "cell_type": "markdown",
   "id": "988865b8",
   "metadata": {},
   "source": [
    "# Funções\n",
    "\n",
    "Uma função é um sequência nomeada de instruções que executa uma operação de computação. São utilizadas para realizar determinadas tarefas que normalmente precisam ser executadas diversas vezes dentro de uma aplicação.\n",
    "\n",
    "Nós já trabalhamos com diversas funções, denominadas <i>Built-in Functions</i>. Essas funções são nativas da linguagem python e estão listadas abaixo em ordem alfabética.\n",
    "\n",
    "A sintaxe de uma função é dada por:\n",
    "\n",
    "```python\n",
    "def nome_da_funcao(parâmetros):\n",
    "    comandos\n",
    "    return\n",
    "```\n",
    "\n",
    "O comando return é utilizado quando deseja-se retornar algum argumento da função."
   ]
  },
  {
   "cell_type": "code",
   "execution_count": 42,
   "id": "65e08f70",
   "metadata": {},
   "outputs": [],
   "source": []
  },
  {
   "cell_type": "code",
   "execution_count": 43,
   "id": "4bdec0d1",
   "metadata": {},
   "outputs": [
    {
     "name": "stdout",
     "output_type": "stream",
     "text": [
      "7\n"
     ]
    }
   ],
   "source": [
    "a,b,c = 1,1,1\n",
    "x = 2\n",
    "\n",
    "parabola(x,a,b,c)"
   ]
  },
  {
   "cell_type": "code",
   "execution_count": 44,
   "id": "0b4c86fb",
   "metadata": {},
   "outputs": [
    {
     "name": "stdout",
     "output_type": "stream",
     "text": [
      "7\n"
     ]
    }
   ],
   "source": [
    "#Atribuindo valor a y"
   ]
  },
  {
   "cell_type": "code",
   "execution_count": 45,
   "id": "5873b1ad",
   "metadata": {},
   "outputs": [],
   "source": []
  },
  {
   "cell_type": "code",
   "execution_count": 51,
   "id": "1f2ba5ee",
   "metadata": {},
   "outputs": [],
   "source": [
    "#Criando a função com atributos padrões e com return\n"
   ]
  },
  {
   "cell_type": "code",
   "execution_count": 52,
   "id": "f1bdc660",
   "metadata": {},
   "outputs": [
    {
     "data": {
      "text/plain": [
       "7"
      ]
     },
     "execution_count": 52,
     "metadata": {},
     "output_type": "execute_result"
    }
   ],
   "source": []
  },
  {
   "cell_type": "code",
   "execution_count": 53,
   "id": "f9ad3bad",
   "metadata": {},
   "outputs": [
    {
     "data": {
      "text/plain": [
       "7"
      ]
     },
     "execution_count": 53,
     "metadata": {},
     "output_type": "execute_result"
    }
   ],
   "source": []
  },
  {
   "cell_type": "markdown",
   "id": "760a6424",
   "metadata": {},
   "source": [
    "#### Vamos criar funções para calcular o tempo da onda direta e refletida"
   ]
  },
  {
   "cell_type": "code",
   "execution_count": 54,
   "id": "07664145",
   "metadata": {},
   "outputs": [],
   "source": [
    "#Onda direta\n",
    "\n",
    "#Onda refletida\n"
   ]
  },
  {
   "cell_type": "code",
   "execution_count": 56,
   "id": "f31d5e50",
   "metadata": {},
   "outputs": [
    {
     "name": "stdout",
     "output_type": "stream",
     "text": [
      "2 2500 100\n"
     ]
    }
   ],
   "source": [
    "print(x,v,h)"
   ]
  },
  {
   "cell_type": "code",
   "execution_count": 57,
   "id": "d859fa9e",
   "metadata": {},
   "outputs": [
    {
     "data": {
      "text/plain": [
       "0.0008"
      ]
     },
     "execution_count": 57,
     "metadata": {},
     "output_type": "execute_result"
    }
   ],
   "source": [
    "onda_direta(x,v)"
   ]
  },
  {
   "cell_type": "code",
   "execution_count": 58,
   "id": "e54b5f89",
   "metadata": {},
   "outputs": [
    {
     "data": {
      "text/plain": [
       "0.080003999900005"
      ]
     },
     "execution_count": 58,
     "metadata": {},
     "output_type": "execute_result"
    }
   ],
   "source": [
    "onda_refletida(x,v,h)"
   ]
  },
  {
   "cell_type": "markdown",
   "id": "0fa7a9a0",
   "metadata": {},
   "source": [
    "### List comprehesion\n",
    "\n",
    "Para aplicar funções simples ou realizar filtragens em listas, podemos compreensão de listas. \n",
    "\n",
    "A sintáxe básica é a seguinte:\n",
    "\n",
    "<center> [expressão <b>for</b> item <b>in</b> lista <b>if</b> condicional] </center>\n",
    "\n",
    "para exemplificar, vamos calcular o tempo de trânsito do arranjo usando list comprehension."
   ]
  },
  {
   "cell_type": "code",
   "execution_count": 60,
   "id": "d9877674",
   "metadata": {},
   "outputs": [
    {
     "data": {
      "text/plain": [
       "[0.0,\n",
       " 0.01,\n",
       " 0.02,\n",
       " 0.03,\n",
       " 0.04,\n",
       " 0.05,\n",
       " 0.06,\n",
       " 0.07,\n",
       " 0.08,\n",
       " 0.09,\n",
       " 0.1,\n",
       " 0.11,\n",
       " 0.12,\n",
       " 0.13,\n",
       " 0.14,\n",
       " 0.15,\n",
       " 0.16,\n",
       " 0.17,\n",
       " 0.18,\n",
       " 0.19,\n",
       " 0.2]"
      ]
     },
     "execution_count": 60,
     "metadata": {},
     "output_type": "execute_result"
    }
   ],
   "source": []
  },
  {
   "cell_type": "code",
   "execution_count": 71,
   "id": "cdce2c3f",
   "metadata": {},
   "outputs": [
    {
     "data": {
      "text/plain": [
       "Text(0, 0.5, 'Tempo (s)')"
      ]
     },
     "execution_count": 71,
     "metadata": {},
     "output_type": "execute_result"
    },
    {
     "data": {
      "image/png": "[encoded data removed]",
      "text/plain": [
       "<Figure size 432x288 with 1 Axes>"
      ]
     },
     "metadata": {
      "needs_background": "light"
     },
     "output_type": "display_data"
    }
   ],
   "source": [
    "h = 50 #metros\n",
    "v = 2500 #m/s\n",
    "\n",
    "X = [x for x in range(0,525,25)]\n",
    "td = [onda_direta(x,v) for x in range(0,525,25)]\n",
    "tr = [onda_refletida(x,v,h) for x in range(0,525,25)]\n",
    "\n",
    "#Vamos programar um arranjo com receptores espaçados de 0 a 500m a cada 25m\n",
    "    \n",
    "plt.plot(X,td,color='black',label='Onda direta')\n",
    "plt.plot(X,tr,color='red',ls='--',label='Onda refletida')\n",
    "\n",
    "plt.legend()\n",
    "\n",
    "\n",
    "plt.gca().invert_yaxis()\n",
    "plt.xlabel('Receptor (m)',fontsize=14)\n",
    "plt.ylabel('Tempo (s)',fontsize=14)"
   ]
  },
  {
   "cell_type": "markdown",
   "id": "6ddd3dec",
   "metadata": {},
   "source": [
    "Podemos adicionar um condicional no list comp"
   ]
  },
  {
   "cell_type": "code",
   "execution_count": 72,
   "id": "4c6d70f8",
   "metadata": {},
   "outputs": [
    {
     "data": {
      "text/plain": [
       "Text(0, 0.5, 'Tempo (s)')"
      ]
     },
     "execution_count": 72,
     "metadata": {},
     "output_type": "execute_result"
    },
    {
     "data": {
      "image/png": "[encoded data removed]",
      "text/plain": [
       "<Figure size 432x288 with 1 Axes>"
      ]
     },
     "metadata": {
      "needs_background": "light"
     },
     "output_type": "display_data"
    }
   ],
   "source": [
    "h = 150 #metros\n",
    "v = 2500 #m/s\n",
    "x_min = 150\n",
    "\n",
    "X = [x for x in range(0,525,25) if x>=x_min]\n",
    "td = [onda_direta(x,v) for x in range(0,525,25) if x>=x_min]\n",
    "tr = [onda_refletida(x,v,h) for x in range(0,525,25) if x>=x_min]\n",
    "\n",
    "#Vamos programar um arranjo com receptores espaçados de 0 a 500m a cada 25m\n",
    "    \n",
    "plt.plot(X,td,color='black',label='Onda direta')\n",
    "plt.plot(X,tr,color='red',ls='--',label='Onda refletida')\n",
    "\n",
    "plt.legend()\n",
    "\n",
    "\n",
    "plt.gca().invert_yaxis()\n",
    "plt.xlabel('Receptor (m)',fontsize=14)\n",
    "plt.ylabel('Tempo (s)',fontsize=14)"
   ]
  }
 ],
 "metadata": {
  "kernelspec": {
   "display_name": "Python 3",
   "language": "python",
   "name": "python3"
  },
  "language_info": {
   "codemirror_mode": {
    "name": "ipython",
    "version": 3
   },
   "file_extension": ".py",
   "mimetype": "text/x-python",
   "name": "python",
   "nbconvert_exporter": "python",
   "pygments_lexer": "ipython3",
   "version": "3.8.8"
  }
 },
 "nbformat": 4,
 "nbformat_minor": 5
}
